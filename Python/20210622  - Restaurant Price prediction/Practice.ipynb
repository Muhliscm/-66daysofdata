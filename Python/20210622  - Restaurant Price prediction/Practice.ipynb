{
 "cells": [
  {
   "cell_type": "code",
   "execution_count": 2,
   "metadata": {},
   "outputs": [
    {
     "data": {
      "text/plain": [
       "(1000,)"
      ]
     },
     "execution_count": 2,
     "metadata": {},
     "output_type": "execute_result"
    },
    {
     "data": {
      "image/png": "[encoded data removed]",
      "text/plain": [
       "<Figure size 432x288 with 1 Axes>"
      ]
     },
     "metadata": {
      "needs_background": "light"
     },
     "output_type": "display_data"
    }
   ],
   "source": [
    "import matplotlib.pyplot as plt\n",
    "from numpy.random import randn\n",
    "\n",
    "from numpy import exp\n",
    "\n",
    "d = randn(1000)\n",
    "\n",
    "\n",
    "d\n",
    "\n",
    "d = exp(d)\n",
    "\n",
    "plt.hist(d, bins =25)\n",
    "\n",
    "\n",
    "d.shape"
   ]
  },
  {
   "cell_type": "code",
   "execution_count": 4,
   "metadata": {},
   "outputs": [
    {
     "data": {
      "text/plain": [
       "(1000, 1)"
      ]
     },
     "execution_count": 4,
     "metadata": {},
     "output_type": "execute_result"
    }
   ],
   "source": [
    "d = d.reshape(len(d), 1)\n",
    "d.shape"
   ]
  },
  {
   "cell_type": "code",
   "execution_count": 5,
   "metadata": {},
   "outputs": [],
   "source": [
    "from sklearn.preprocessing import PowerTransformer"
   ]
  },
  {
   "cell_type": "code",
   "execution_count": 8,
   "metadata": {},
   "outputs": [],
   "source": [
    "power = PowerTransformer(method = 'yeo-johnson', standardize = True)"
   ]
  },
  {
   "cell_type": "code",
   "execution_count": 9,
   "metadata": {},
   "outputs": [],
   "source": [
    "d_trans = power.fit_transform(d)"
   ]
  },
  {
   "cell_type": "code",
   "execution_count": 11,
   "metadata": {},
   "outputs": [
    {
     "data": {
      "image/png": "[encoded data removed]",
      "text/plain": [
       "<Figure size 432x288 with 1 Axes>"
      ]
     },
     "metadata": {
      "needs_background": "light"
     },
     "output_type": "display_data"
    }
   ],
   "source": [
    "plt.hist(d_trans, bins = 25)\n",
    "plt.show()"
   ]
  },
  {
   "cell_type": "code",
   "execution_count": 14,
   "metadata": {},
   "outputs": [
    {
     "ename": "ModuleNotFoundError",
     "evalue": "No module named 'featuretools'",
     "output_type": "error",
     "traceback": [
      "\u001b[1;31m---------------------------------------------------------------------------\u001b[0m",
      "\u001b[1;31mModuleNotFoundError\u001b[0m                       Traceback (most recent call last)",
      "\u001b[1;32m<ipython-input-14-8a54032b3ccd>\u001b[0m in \u001b[0;36m<module>\u001b[1;34m\u001b[0m\n\u001b[1;32m----> 1\u001b[1;33m \u001b[1;32mimport\u001b[0m \u001b[0mfeaturetools\u001b[0m \u001b[1;32mas\u001b[0m \u001b[0mft\u001b[0m\u001b[1;33m\u001b[0m\u001b[1;33m\u001b[0m\u001b[0m\n\u001b[0m",
      "\u001b[1;31mModuleNotFoundError\u001b[0m: No module named 'featuretools'"
     ]
    }
   ],
   "source": []
  },
  {
   "cell_type": "code",
   "execution_count": 13,
   "metadata": {},
   "outputs": [
    {
     "name": "stdout",
     "output_type": "stream",
     "text": [
      "Collecting featuretools\n",
      "  Downloading featuretools-0.25.0-py3-none-any.whl (299 kB)\n",
      "Requirement already satisfied: scipy>=1.3.2 in c:\\users\\muhlis\\anaconda3\\lib\\site-packages (from featuretools) (1.5.0)\n",
      "Requirement already satisfied: cloudpickle>=0.4.0 in c:\\users\\muhlis\\anaconda3\\lib\\site-packages (from featuretools) (1.5.0)\n",
      "Requirement already satisfied: distributed>=2.12.0 in c:\\users\\muhlis\\anaconda3\\lib\\site-packages (from featuretools) (2.20.0)\n",
      "Requirement already satisfied: psutil>=5.6.6 in c:\\users\\muhlis\\anaconda3\\lib\\site-packages (from featuretools) (5.7.0)\n",
      "Collecting pyyaml>=5.4\n",
      "  Downloading PyYAML-5.4.1-cp38-cp38-win_amd64.whl (213 kB)\n",
      "Requirement already satisfied: tqdm>=4.32.0 in c:\\users\\muhlis\\anaconda3\\lib\\site-packages (from featuretools) (4.47.0)\n",
      "Requirement already satisfied: numpy>=1.16.6 in c:\\users\\muhlis\\anaconda3\\lib\\site-packages (from featuretools) (1.18.5)\n",
      "Requirement already satisfied: dask[dataframe]>=2.12.0 in c:\\users\\muhlis\\anaconda3\\lib\\site-packages (from featuretools) (2.20.0)\n",
      "Collecting pandas<2.0.0,>=1.2.0\n",
      "  Downloading pandas-1.3.0-cp38-cp38-win_amd64.whl (10.2 MB)\n",
      "Requirement already satisfied: click>=7.0.0 in c:\\users\\muhlis\\anaconda3\\lib\\site-packages (from featuretools) (7.1.2)\n",
      "Requirement already satisfied: fsspec>=0.6.0 in c:\\users\\muhlis\\anaconda3\\lib\\site-packages (from dask[dataframe]>=2.12.0->featuretools) (0.7.4)\n",
      "Requirement already satisfied: partd>=0.3.10 in c:\\users\\muhlis\\anaconda3\\lib\\site-packages (from dask[dataframe]>=2.12.0->featuretools) (1.1.0)\n",
      "Requirement already satisfied: toolz>=0.8.2 in c:\\users\\muhlis\\anaconda3\\lib\\site-packages (from dask[dataframe]>=2.12.0->featuretools) (0.10.0)\n",
      "Requirement already satisfied: tblib>=1.6.0 in c:\\users\\muhlis\\anaconda3\\lib\\site-packages (from distributed>=2.12.0->featuretools) (1.6.0)\n",
      "Requirement already satisfied: sortedcontainers!=2.0.0,!=2.0.1 in c:\\users\\muhlis\\anaconda3\\lib\\site-packages (from distributed>=2.12.0->featuretools) (2.2.2)\n",
      "Requirement already satisfied: zict>=0.1.3 in c:\\users\\muhlis\\anaconda3\\lib\\site-packages (from distributed>=2.12.0->featuretools) (2.0.0)\n",
      "Requirement already satisfied: setuptools in c:\\users\\muhlis\\anaconda3\\lib\\site-packages (from distributed>=2.12.0->featuretools) (50.3.2)\n",
      "Requirement already satisfied: msgpack>=0.6.0 in c:\\users\\muhlis\\anaconda3\\lib\\site-packages (from distributed>=2.12.0->featuretools) (1.0.0)\n",
      "Requirement already satisfied: tornado>=6.0.3 in c:\\users\\muhlis\\anaconda3\\lib\\site-packages (from distributed>=2.12.0->featuretools) (6.0.4)\n",
      "Requirement already satisfied: pytz>=2017.3 in c:\\users\\muhlis\\anaconda3\\lib\\site-packages (from pandas<2.0.0,>=1.2.0->featuretools) (2020.1)\n",
      "Requirement already satisfied: python-dateutil>=2.7.3 in c:\\users\\muhlis\\anaconda3\\lib\\site-packages (from pandas<2.0.0,>=1.2.0->featuretools) (2.8.1)\n",
      "Requirement already satisfied: locket in c:\\users\\muhlis\\anaconda3\\lib\\site-packages (from partd>=0.3.10->dask[dataframe]>=2.12.0->featuretools) (0.2.0)\n",
      "Requirement already satisfied: six>=1.5 in c:\\users\\muhlis\\anaconda3\\lib\\site-packages (from python-dateutil>=2.7.3->pandas<2.0.0,>=1.2.0->featuretools) (1.15.0)\n",
      "Requirement already satisfied: heapdict in c:\\users\\muhlis\\anaconda3\\lib\\site-packages (from zict>=0.1.3->distributed>=2.12.0->featuretools) (1.0.1)\n",
      "Installing collected packages: pyyaml, pandas, featuretools\n",
      "  Attempting uninstall: pyyaml\n",
      "    Found existing installation: PyYAML 5.3.1\n",
      "Note: you may need to restart the kernel to use updated packages.\n"
     ]
    },
    {
     "name": "stderr",
     "output_type": "stream",
     "text": [
      "ERROR: Cannot uninstall 'PyYAML'. It is a distutils installed project and thus we cannot accurately determine which files belong to it which would lead to only a partial uninstall.\n"
     ]
    }
   ],
   "source": []
  },
  {
   "cell_type": "code",
   "execution_count": null,
   "metadata": {},
   "outputs": [],
   "source": []
  }
 ],
 "metadata": {
  "kernelspec": {
   "display_name": "Python 3",
   "language": "python",
   "name": "python3"
  },
  "language_info": {
   "codemirror_mode": {
    "name": "ipython",
    "version": 3
   },
   "file_extension": ".py",
   "mimetype": "text/x-python",
   "name": "python",
   "nbconvert_exporter": "python",
   "pygments_lexer": "ipython3",
   "version": "3.8.3"
  }
 },
 "nbformat": 4,
 "nbformat_minor": 4
}
