{
  "nbformat": 4,
  "nbformat_minor": 0,
  "metadata": {
    "colab": {
      "name": "fifa_country_codes.ipynb",
      "provenance": []
    },
    "kernelspec": {
      "name": "python3",
      "display_name": "Python 3"
    },
    "language_info": {
      "name": "python"
    }
  },
  "cells": [
    {
      "cell_type": "markdown",
      "metadata": {
        "id": "Q3MPGgK3Qg6K"
      },
      "source": [
        "# Scrapping fifa codes for respective countries from wikipedia\n"
      ]
    },
    {
      "cell_type": "code",
      "metadata": {
        "id": "qfPCwA2PpazH"
      },
      "source": [
        "import pandas as pd\n",
        "import requests\n",
        "from bs4 import BeautifulSoup"
      ],
      "execution_count": 34,
      "outputs": []
    },
    {
      "cell_type": "code",
      "metadata": {
        "id": "eNEVL256Qfif"
      },
      "source": [
        "url = \"https://en.wikipedia.org/wiki/List_of_FIFA_country_codes\""
      ],
      "execution_count": 35,
      "outputs": []
    },
    {
      "cell_type": "code",
      "metadata": {
        "id": "TTsG3BLuppsd"
      },
      "source": [
        "data = requests.get(url).text"
      ],
      "execution_count": 36,
      "outputs": []
    },
    {
      "cell_type": "code",
      "metadata": {
        "id": "oLJk1z_ddPTj"
      },
      "source": [
        "soup = BeautifulSoup(data, \"html5lib\")"
      ],
      "execution_count": 37,
      "outputs": []
    },
    {
      "cell_type": "code",
      "metadata": {
        "id": "sJKc1f7MrekJ"
      },
      "source": [
        "tables = soup.find_all(\"table\",class_= \"wikitable\")"
      ],
      "execution_count": 63,
      "outputs": []
    },
    {
      "cell_type": "code",
      "metadata": {
        "colab": {
          "base_uri": "https://localhost:8080/"
        },
        "id": "d_v4n-ljsTba",
        "outputId": "0dbca8e7-3905-47c4-ca4d-fc718f999b5e"
      },
      "source": [
        "len(tables)"
      ],
      "execution_count": 64,
      "outputs": [
        {
          "output_type": "execute_result",
          "data": {
            "text/plain": [
              "10"
            ]
          },
          "metadata": {
            "tags": []
          },
          "execution_count": 64
        }
      ]
    },
    {
      "cell_type": "code",
      "metadata": {
        "id": "Xkx6Cbqg5_aL"
      },
      "source": [
        "fifa_county_codes = pd.DataFrame(columns = [\"Country\", \"Codes\"])"
      ],
      "execution_count": 65,
      "outputs": []
    },
    {
      "cell_type": "code",
      "metadata": {
        "id": "wDeSRY2-dWUh",
        "colab": {
          "base_uri": "https://localhost:8080/",
          "height": 402
        },
        "outputId": "27203885-5d93-409b-bf19-d96045869194"
      },
      "source": [
        "for i in range(4):\n",
        "  for row in tables[i].tbody.find_all(\"tr\"):\n",
        "    col = row.find_all(\"td\")\n",
        "    if (col != []):\n",
        "      Country = col[0].text.strip()\n",
        "      Codes = col[1].text.strip()\n",
        "\n",
        "      fifa_county_codes = fifa_county_codes.append({\"Country\":Country, \"Codes\":Codes}, ignore_index= True)\n",
        "\n",
        "fifa_county_codes"
      ],
      "execution_count": 66,
      "outputs": [
        {
          "output_type": "execute_result",
          "data": {
            "text/html": [
              "<div>\n",
              "<style scoped>\n",
              "    .dataframe tbody tr th:only-of-type {\n",
              "        vertical-align: middle;\n",
              "    }\n",
              "\n",
              "    .dataframe tbody tr th {\n",
              "        vertical-align: top;\n",
              "    }\n",
              "\n",
              "    .dataframe thead th {\n",
              "        text-align: right;\n",
              "    }\n",
              "</style>\n",
              "<table border=\"1\" class=\"dataframe\">\n",
              "  <thead>\n",
              "    <tr style=\"text-align: right;\">\n",
              "      <th></th>\n",
              "      <th>Country</th>\n",
              "      <th>Codes</th>\n",
              "    </tr>\n",
              "  </thead>\n",
              "  <tbody>\n",
              "    <tr>\n",
              "      <th>0</th>\n",
              "      <td>Afghanistan</td>\n",
              "      <td>AFG</td>\n",
              "    </tr>\n",
              "    <tr>\n",
              "      <th>1</th>\n",
              "      <td>Albania</td>\n",
              "      <td>ALB</td>\n",
              "    </tr>\n",
              "    <tr>\n",
              "      <th>2</th>\n",
              "      <td>Algeria</td>\n",
              "      <td>ALG</td>\n",
              "    </tr>\n",
              "    <tr>\n",
              "      <th>3</th>\n",
              "      <td>American Samoa</td>\n",
              "      <td>ASA</td>\n",
              "    </tr>\n",
              "    <tr>\n",
              "      <th>4</th>\n",
              "      <td>Andorra</td>\n",
              "      <td>AND</td>\n",
              "    </tr>\n",
              "    <tr>\n",
              "      <th>...</th>\n",
              "      <td>...</td>\n",
              "      <td>...</td>\n",
              "    </tr>\n",
              "    <tr>\n",
              "      <th>206</th>\n",
              "      <td>Vietnam</td>\n",
              "      <td>VIE</td>\n",
              "    </tr>\n",
              "    <tr>\n",
              "      <th>207</th>\n",
              "      <td>Wales</td>\n",
              "      <td>WAL</td>\n",
              "    </tr>\n",
              "    <tr>\n",
              "      <th>208</th>\n",
              "      <td>Yemen</td>\n",
              "      <td>YEM</td>\n",
              "    </tr>\n",
              "    <tr>\n",
              "      <th>209</th>\n",
              "      <td>Zambia</td>\n",
              "      <td>ZAM</td>\n",
              "    </tr>\n",
              "    <tr>\n",
              "      <th>210</th>\n",
              "      <td>Zimbabwe</td>\n",
              "      <td>ZIM</td>\n",
              "    </tr>\n",
              "  </tbody>\n",
              "</table>\n",
              "<p>211 rows × 2 columns</p>\n",
              "</div>"
            ],
            "text/plain": [
              "            Country Codes\n",
              "0       Afghanistan   AFG\n",
              "1           Albania   ALB\n",
              "2           Algeria   ALG\n",
              "3    American Samoa   ASA\n",
              "4           Andorra   AND\n",
              "..              ...   ...\n",
              "206         Vietnam   VIE\n",
              "207           Wales   WAL\n",
              "208           Yemen   YEM\n",
              "209          Zambia   ZAM\n",
              "210        Zimbabwe   ZIM\n",
              "\n",
              "[211 rows x 2 columns]"
            ]
          },
          "metadata": {
            "tags": []
          },
          "execution_count": 66
        }
      ]
    },
    {
      "cell_type": "code",
      "metadata": {
        "id": "D-Na1r0dswIN"
      },
      "source": [
        "fifa_county_codes.to_csv(\"Fifa_Country_codes.csv\")"
      ],
      "execution_count": 68,
      "outputs": []
    },
    {
      "cell_type": "code",
      "metadata": {
        "colab": {
          "base_uri": "https://localhost:8080/"
        },
        "id": "MpkY_VuP9uJG",
        "outputId": "d0e41225-c714-48c1-ee1a-47a970712fc6"
      },
      "source": [
        "!ls"
      ],
      "execution_count": 70,
      "outputs": [
        {
          "output_type": "stream",
          "text": [
            "Fifa_Country_codes.csv\tsample_data\n"
          ],
          "name": "stdout"
        }
      ]
    },
    {
      "cell_type": "code",
      "metadata": {
        "id": "xs3xvSH-dlZZ",
        "colab": {
          "base_uri": "https://localhost:8080/",
          "height": 17
        },
        "outputId": "3cbb724e-67d4-4231-ba3f-e2f0da5f8918"
      },
      "source": [
        "from google.colab import files\n",
        "files.download(\"Fifa_Country_codes.csv\")"
      ],
      "execution_count": 71,
      "outputs": [
        {
          "output_type": "display_data",
          "data": {
            "application/javascript": [
              "\n",
              "    async function download(id, filename, size) {\n",
              "      if (!google.colab.kernel.accessAllowed) {\n",
              "        return;\n",
              "      }\n",
              "      const div = document.createElement('div');\n",
              "      const label = document.createElement('label');\n",
              "      label.textContent = `Downloading \"${filename}\": `;\n",
              "      div.appendChild(label);\n",
              "      const progress = document.createElement('progress');\n",
              "      progress.max = size;\n",
              "      div.appendChild(progress);\n",
              "      document.body.appendChild(div);\n",
              "\n",
              "      const buffers = [];\n",
              "      let downloaded = 0;\n",
              "\n",
              "      const channel = await google.colab.kernel.comms.open(id);\n",
              "      // Send a message to notify the kernel that we're ready.\n",
              "      channel.send({})\n",
              "\n",
              "      for await (const message of channel.messages) {\n",
              "        // Send a message to notify the kernel that we're ready.\n",
              "        channel.send({})\n",
              "        if (message.buffers) {\n",
              "          for (const buffer of message.buffers) {\n",
              "            buffers.push(buffer);\n",
              "            downloaded += buffer.byteLength;\n",
              "            progress.value = downloaded;\n",
              "          }\n",
              "        }\n",
              "      }\n",
              "      const blob = new Blob(buffers, {type: 'application/binary'});\n",
              "      const a = document.createElement('a');\n",
              "      a.href = window.URL.createObjectURL(blob);\n",
              "      a.download = filename;\n",
              "      div.appendChild(a);\n",
              "      a.click();\n",
              "      div.remove();\n",
              "    }\n",
              "  "
            ],
            "text/plain": [
              "<IPython.core.display.Javascript object>"
            ]
          },
          "metadata": {
            "tags": []
          }
        },
        {
          "output_type": "display_data",
          "data": {
            "application/javascript": [
              "download(\"download_989ba712-3465-4dfc-a02a-3fb9d9f50856\", \"Fifa_Country_codes.csv\", 3646)"
            ],
            "text/plain": [
              "<IPython.core.display.Javascript object>"
            ]
          },
          "metadata": {
            "tags": []
          }
        }
      ]
    },
    {
      "cell_type": "markdown",
      "metadata": {
        "id": "gHWEAGzB_IPk"
      },
      "source": [
        "### **Non Fifa member Codes**"
      ]
    },
    {
      "cell_type": "code",
      "metadata": {
        "id": "hTF26d8lpVuM"
      },
      "source": [
        "tables[4]"
      ],
      "execution_count": null,
      "outputs": []
    },
    {
      "cell_type": "code",
      "metadata": {
        "id": "rGM-uAC2_G9w"
      },
      "source": [
        "Non_fifa_county_codes = []\n",
        "Non_fifa_county_codes = pd.DataFrame(columns = [\"Country\", \"Codes\", \"Confederation\"])"
      ],
      "execution_count": 89,
      "outputs": []
    },
    {
      "cell_type": "code",
      "metadata": {
        "colab": {
          "base_uri": "https://localhost:8080/",
          "height": 432
        },
        "id": "AfxoTfbd_e6e",
        "outputId": "cb6b575a-a98e-44df-afd0-948cce586cbf"
      },
      "source": [
        "for row in tables[4].tbody.find_all(\"tr\"):\n",
        "    col = row.find_all(\"td\")\n",
        "    if (col != []):\n",
        "      Country = col[0].text.strip()\n",
        "      Codes = col[1].text.strip()\n",
        "      Confederation = col[2].text.strip()\n",
        "\n",
        "      Non_fifa_county_codes = Non_fifa_county_codes.append({\"Country\":Country, \"Codes\":Codes, \"Confederation\": Confederation}, ignore_index= True)\n",
        "\n",
        "Non_fifa_county_codes"
      ],
      "execution_count": 90,
      "outputs": [
        {
          "output_type": "execute_result",
          "data": {
            "text/html": [
              "<div>\n",
              "<style scoped>\n",
              "    .dataframe tbody tr th:only-of-type {\n",
              "        vertical-align: middle;\n",
              "    }\n",
              "\n",
              "    .dataframe tbody tr th {\n",
              "        vertical-align: top;\n",
              "    }\n",
              "\n",
              "    .dataframe thead th {\n",
              "        text-align: right;\n",
              "    }\n",
              "</style>\n",
              "<table border=\"1\" class=\"dataframe\">\n",
              "  <thead>\n",
              "    <tr style=\"text-align: right;\">\n",
              "      <th></th>\n",
              "      <th>Country</th>\n",
              "      <th>Codes</th>\n",
              "      <th>Confederation</th>\n",
              "    </tr>\n",
              "  </thead>\n",
              "  <tbody>\n",
              "    <tr>\n",
              "      <th>0</th>\n",
              "      <td>Bonaire</td>\n",
              "      <td>BOE</td>\n",
              "      <td>CONCACAF</td>\n",
              "    </tr>\n",
              "    <tr>\n",
              "      <th>1</th>\n",
              "      <td>French Guiana</td>\n",
              "      <td>GUF</td>\n",
              "      <td>CONCACAF</td>\n",
              "    </tr>\n",
              "    <tr>\n",
              "      <th>2</th>\n",
              "      <td>Great Britain</td>\n",
              "      <td>GBR</td>\n",
              "      <td>–</td>\n",
              "    </tr>\n",
              "    <tr>\n",
              "      <th>3</th>\n",
              "      <td>Guadeloupe</td>\n",
              "      <td>GLP</td>\n",
              "      <td>CONCACAF</td>\n",
              "    </tr>\n",
              "    <tr>\n",
              "      <th>4</th>\n",
              "      <td>Kiribati</td>\n",
              "      <td>KIR</td>\n",
              "      <td>OFC</td>\n",
              "    </tr>\n",
              "    <tr>\n",
              "      <th>5</th>\n",
              "      <td>Martinique</td>\n",
              "      <td>MTQ</td>\n",
              "      <td>CONCACAF</td>\n",
              "    </tr>\n",
              "    <tr>\n",
              "      <th>6</th>\n",
              "      <td>Niue</td>\n",
              "      <td>NIU</td>\n",
              "      <td>OFC</td>\n",
              "    </tr>\n",
              "    <tr>\n",
              "      <th>7</th>\n",
              "      <td>Northern Mariana Islands</td>\n",
              "      <td>NMI</td>\n",
              "      <td>AFC</td>\n",
              "    </tr>\n",
              "    <tr>\n",
              "      <th>8</th>\n",
              "      <td>Réunion</td>\n",
              "      <td>REU</td>\n",
              "      <td>CAF</td>\n",
              "    </tr>\n",
              "    <tr>\n",
              "      <th>9</th>\n",
              "      <td>Saint Martin</td>\n",
              "      <td>SMN</td>\n",
              "      <td>CONCACAF</td>\n",
              "    </tr>\n",
              "    <tr>\n",
              "      <th>10</th>\n",
              "      <td>Sint Maarten</td>\n",
              "      <td>SMA</td>\n",
              "      <td>CONCACAF</td>\n",
              "    </tr>\n",
              "    <tr>\n",
              "      <th>11</th>\n",
              "      <td>Tuvalu</td>\n",
              "      <td>TUV</td>\n",
              "      <td>OFC</td>\n",
              "    </tr>\n",
              "    <tr>\n",
              "      <th>12</th>\n",
              "      <td>Zanzibar</td>\n",
              "      <td>ZAN</td>\n",
              "      <td>CAF</td>\n",
              "    </tr>\n",
              "  </tbody>\n",
              "</table>\n",
              "</div>"
            ],
            "text/plain": [
              "                     Country Codes Confederation\n",
              "0                    Bonaire   BOE      CONCACAF\n",
              "1              French Guiana   GUF      CONCACAF\n",
              "2              Great Britain   GBR             –\n",
              "3                 Guadeloupe   GLP      CONCACAF\n",
              "4                   Kiribati   KIR           OFC\n",
              "5                 Martinique   MTQ      CONCACAF\n",
              "6                       Niue   NIU           OFC\n",
              "7   Northern Mariana Islands   NMI           AFC\n",
              "8                    Réunion   REU           CAF\n",
              "9               Saint Martin   SMN      CONCACAF\n",
              "10              Sint Maarten   SMA      CONCACAF\n",
              "11                    Tuvalu   TUV           OFC\n",
              "12                  Zanzibar   ZAN           CAF"
            ]
          },
          "metadata": {
            "tags": []
          },
          "execution_count": 90
        }
      ]
    },
    {
      "cell_type": "code",
      "metadata": {
        "colab": {
          "base_uri": "https://localhost:8080/"
        },
        "id": "J_S9GQ2PcI-l",
        "outputId": "1302ab68-f2f0-4dff-9387-f0eef6bb4733"
      },
      "source": [
        "!ls"
      ],
      "execution_count": 91,
      "outputs": [
        {
          "output_type": "stream",
          "text": [
            "Fifa_Country_codes.csv\tsample_data\n"
          ],
          "name": "stdout"
        }
      ]
    },
    {
      "cell_type": "code",
      "metadata": {
        "id": "zeEg48QXcK36"
      },
      "source": [
        "Non_fifa_county_codes.to_csv(\"Non_fifa_county_codes.csv\")"
      ],
      "execution_count": 94,
      "outputs": []
    },
    {
      "cell_type": "code",
      "metadata": {
        "id": "VadH3V4aj4B9",
        "colab": {
          "base_uri": "https://localhost:8080/"
        },
        "outputId": "e7de0562-ae13-46b0-d0eb-544bf16f838d"
      },
      "source": [
        "!ls"
      ],
      "execution_count": 95,
      "outputs": [
        {
          "output_type": "stream",
          "text": [
            "Fifa_Country_codes.csv\tNon_fifa_county_codes.csv\n",
            "Non_fifa_county_codes\tsample_data\n"
          ],
          "name": "stdout"
        }
      ]
    },
    {
      "cell_type": "code",
      "metadata": {
        "colab": {
          "base_uri": "https://localhost:8080/",
          "height": 17
        },
        "id": "fL9tzcM2CaCy",
        "outputId": "9700cfe9-dc0b-455b-9b4e-c094f33fa150"
      },
      "source": [
        "files.download(\"Non_fifa_county_codes.csv\")"
      ],
      "execution_count": 96,
      "outputs": [
        {
          "output_type": "display_data",
          "data": {
            "application/javascript": [
              "\n",
              "    async function download(id, filename, size) {\n",
              "      if (!google.colab.kernel.accessAllowed) {\n",
              "        return;\n",
              "      }\n",
              "      const div = document.createElement('div');\n",
              "      const label = document.createElement('label');\n",
              "      label.textContent = `Downloading \"${filename}\": `;\n",
              "      div.appendChild(label);\n",
              "      const progress = document.createElement('progress');\n",
              "      progress.max = size;\n",
              "      div.appendChild(progress);\n",
              "      document.body.appendChild(div);\n",
              "\n",
              "      const buffers = [];\n",
              "      let downloaded = 0;\n",
              "\n",
              "      const channel = await google.colab.kernel.comms.open(id);\n",
              "      // Send a message to notify the kernel that we're ready.\n",
              "      channel.send({})\n",
              "\n",
              "      for await (const message of channel.messages) {\n",
              "        // Send a message to notify the kernel that we're ready.\n",
              "        channel.send({})\n",
              "        if (message.buffers) {\n",
              "          for (const buffer of message.buffers) {\n",
              "            buffers.push(buffer);\n",
              "            downloaded += buffer.byteLength;\n",
              "            progress.value = downloaded;\n",
              "          }\n",
              "        }\n",
              "      }\n",
              "      const blob = new Blob(buffers, {type: 'application/binary'});\n",
              "      const a = document.createElement('a');\n",
              "      a.href = window.URL.createObjectURL(blob);\n",
              "      a.download = filename;\n",
              "      div.appendChild(a);\n",
              "      a.click();\n",
              "      div.remove();\n",
              "    }\n",
              "  "
            ],
            "text/plain": [
              "<IPython.core.display.Javascript object>"
            ]
          },
          "metadata": {
            "tags": []
          }
        },
        {
          "output_type": "display_data",
          "data": {
            "application/javascript": [
              "download(\"download_155e8bf3-be56-4632-9a7a-2c7aaa1cf157\", \"Non_fifa_county_codes.csv\", 340)"
            ],
            "text/plain": [
              "<IPython.core.display.Javascript object>"
            ]
          },
          "metadata": {
            "tags": []
          }
        }
      ]
    },
    {
      "cell_type": "markdown",
      "metadata": {
        "id": "lBr3BW0ECxoz"
      },
      "source": [
        "### **Irregular codes**\n",
        "The following codes refer to countries or dependent areas that are currently not affiliated with FIFA. Even though they are members or associate members of their regional confederations, these codes are not regularly used in communications of FIFA"
      ]
    },
    {
      "cell_type": "code",
      "metadata": {
        "id": "TQQTZI75DD0T"
      },
      "source": [
        "tables[5]"
      ],
      "execution_count": null,
      "outputs": []
    },
    {
      "cell_type": "code",
      "metadata": {
        "id": "GJNCAYIWDOJg"
      },
      "source": [
        "Irregular_codes = []\n",
        "Irregular_codes = pd.DataFrame(columns = [\"Country\", \"Codes\"])"
      ],
      "execution_count": 98,
      "outputs": []
    },
    {
      "cell_type": "code",
      "metadata": {
        "colab": {
          "base_uri": "https://localhost:8080/",
          "height": 402
        },
        "id": "VlyZP1nuDdDh",
        "outputId": "84a85a62-c8f6-49c0-92d2-ffa715190cbe"
      },
      "source": [
        "for row in tables[5].tbody.find_all(\"tr\"):\n",
        "    col = row.find_all(\"td\")\n",
        "    if (col != []):\n",
        "      Country = col[0].text.strip()\n",
        "      Codes = col[1].text.strip()\n",
        "      \n",
        "\n",
        "      Irregular_codes = Irregular_codes.append({\"Country\":Country, \"Codes\":Codes }, ignore_index= True)\n",
        "\n",
        "Irregular_codes"
      ],
      "execution_count": 99,
      "outputs": [
        {
          "output_type": "execute_result",
          "data": {
            "text/html": [
              "<div>\n",
              "<style scoped>\n",
              "    .dataframe tbody tr th:only-of-type {\n",
              "        vertical-align: middle;\n",
              "    }\n",
              "\n",
              "    .dataframe tbody tr th {\n",
              "        vertical-align: top;\n",
              "    }\n",
              "\n",
              "    .dataframe thead th {\n",
              "        text-align: right;\n",
              "    }\n",
              "</style>\n",
              "<table border=\"1\" class=\"dataframe\">\n",
              "  <thead>\n",
              "    <tr style=\"text-align: right;\">\n",
              "      <th></th>\n",
              "      <th>Country</th>\n",
              "      <th>Codes</th>\n",
              "    </tr>\n",
              "  </thead>\n",
              "  <tbody>\n",
              "    <tr>\n",
              "      <th>0</th>\n",
              "      <td>Åland Islands</td>\n",
              "      <td>AXL</td>\n",
              "    </tr>\n",
              "    <tr>\n",
              "      <th>1</th>\n",
              "      <td>Artsakh</td>\n",
              "      <td>NKR</td>\n",
              "    </tr>\n",
              "    <tr>\n",
              "      <th>2</th>\n",
              "      <td>Basque Country</td>\n",
              "      <td>BSQ</td>\n",
              "    </tr>\n",
              "    <tr>\n",
              "      <th>3</th>\n",
              "      <td>Catalonia</td>\n",
              "      <td>CAT</td>\n",
              "    </tr>\n",
              "    <tr>\n",
              "      <th>4</th>\n",
              "      <td>F.S. Micronesia</td>\n",
              "      <td>FSM</td>\n",
              "    </tr>\n",
              "    <tr>\n",
              "      <th>5</th>\n",
              "      <td>Galicia</td>\n",
              "      <td>GAL</td>\n",
              "    </tr>\n",
              "    <tr>\n",
              "      <th>6</th>\n",
              "      <td>Greenland</td>\n",
              "      <td>GRL</td>\n",
              "    </tr>\n",
              "    <tr>\n",
              "      <th>7</th>\n",
              "      <td>Monaco</td>\n",
              "      <td>MON</td>\n",
              "    </tr>\n",
              "    <tr>\n",
              "      <th>8</th>\n",
              "      <td>Palau</td>\n",
              "      <td>PLW</td>\n",
              "    </tr>\n",
              "    <tr>\n",
              "      <th>9</th>\n",
              "      <td>Sardinia</td>\n",
              "      <td>SRD</td>\n",
              "    </tr>\n",
              "    <tr>\n",
              "      <th>10</th>\n",
              "      <td>Northern Cyprus</td>\n",
              "      <td>TRNC</td>\n",
              "    </tr>\n",
              "    <tr>\n",
              "      <th>11</th>\n",
              "      <td>Vatican City</td>\n",
              "      <td>VAT</td>\n",
              "    </tr>\n",
              "  </tbody>\n",
              "</table>\n",
              "</div>"
            ],
            "text/plain": [
              "            Country Codes\n",
              "0     Åland Islands   AXL\n",
              "1           Artsakh   NKR\n",
              "2    Basque Country   BSQ\n",
              "3         Catalonia   CAT\n",
              "4   F.S. Micronesia   FSM\n",
              "5           Galicia   GAL\n",
              "6         Greenland   GRL\n",
              "7            Monaco   MON\n",
              "8             Palau   PLW\n",
              "9          Sardinia   SRD\n",
              "10  Northern Cyprus  TRNC\n",
              "11     Vatican City   VAT"
            ]
          },
          "metadata": {
            "tags": []
          },
          "execution_count": 99
        }
      ]
    },
    {
      "cell_type": "code",
      "metadata": {
        "id": "6c5_53_oDrIj"
      },
      "source": [
        "Irregular_codes.to_csv(\"Irregular_codes.csv\")"
      ],
      "execution_count": 100,
      "outputs": []
    },
    {
      "cell_type": "code",
      "metadata": {
        "colab": {
          "base_uri": "https://localhost:8080/",
          "height": 17
        },
        "id": "EFVmNyiDDvp4",
        "outputId": "b4b4016d-1deb-4c6f-9c07-b2ed3211b42a"
      },
      "source": [
        "files.download(\"Irregular_codes.csv\")"
      ],
      "execution_count": 101,
      "outputs": [
        {
          "output_type": "display_data",
          "data": {
            "application/javascript": [
              "\n",
              "    async function download(id, filename, size) {\n",
              "      if (!google.colab.kernel.accessAllowed) {\n",
              "        return;\n",
              "      }\n",
              "      const div = document.createElement('div');\n",
              "      const label = document.createElement('label');\n",
              "      label.textContent = `Downloading \"${filename}\": `;\n",
              "      div.appendChild(label);\n",
              "      const progress = document.createElement('progress');\n",
              "      progress.max = size;\n",
              "      div.appendChild(progress);\n",
              "      document.body.appendChild(div);\n",
              "\n",
              "      const buffers = [];\n",
              "      let downloaded = 0;\n",
              "\n",
              "      const channel = await google.colab.kernel.comms.open(id);\n",
              "      // Send a message to notify the kernel that we're ready.\n",
              "      channel.send({})\n",
              "\n",
              "      for await (const message of channel.messages) {\n",
              "        // Send a message to notify the kernel that we're ready.\n",
              "        channel.send({})\n",
              "        if (message.buffers) {\n",
              "          for (const buffer of message.buffers) {\n",
              "            buffers.push(buffer);\n",
              "            downloaded += buffer.byteLength;\n",
              "            progress.value = downloaded;\n",
              "          }\n",
              "        }\n",
              "      }\n",
              "      const blob = new Blob(buffers, {type: 'application/binary'});\n",
              "      const a = document.createElement('a');\n",
              "      a.href = window.URL.createObjectURL(blob);\n",
              "      a.download = filename;\n",
              "      div.appendChild(a);\n",
              "      a.click();\n",
              "      div.remove();\n",
              "    }\n",
              "  "
            ],
            "text/plain": [
              "<IPython.core.display.Javascript object>"
            ]
          },
          "metadata": {
            "tags": []
          }
        },
        {
          "output_type": "display_data",
          "data": {
            "application/javascript": [
              "download(\"download_6c1654a5-b7e5-4fab-ab2d-2683e4f24de9\", \"Irregular_codes.csv\", 223)"
            ],
            "text/plain": [
              "<IPython.core.display.Javascript object>"
            ]
          },
          "metadata": {
            "tags": []
          }
        }
      ]
    },
    {
      "cell_type": "markdown",
      "metadata": {
        "id": "N0f7G32jDyJ9"
      },
      "source": [
        "### **Obsolete country codes**\n",
        "The following codes are obsolete because a country has ceased to exist, changed its name, changed its code, or has become part of another country."
      ]
    },
    {
      "cell_type": "code",
      "metadata": {
        "id": "g7i8a2zyECr6"
      },
      "source": [
        "for i in range(6,9):\n",
        "  print(tables[i])"
      ],
      "execution_count": null,
      "outputs": []
    },
    {
      "cell_type": "code",
      "metadata": {
        "id": "uvDiZPA2EeIE"
      },
      "source": [
        "Obsolete_country_codes = []\n",
        "Obsolete_country_codes = pd.DataFrame(columns = [\"Country\", \"Codes\"])"
      ],
      "execution_count": 104,
      "outputs": []
    },
    {
      "cell_type": "code",
      "metadata": {
        "colab": {
          "base_uri": "https://localhost:8080/",
          "height": 1000
        },
        "id": "HbeaAOA3EcmW",
        "outputId": "5b7b06ea-88c1-4071-d848-0392fc5fbda7"
      },
      "source": [
        "for i in range(6,9):\n",
        "  for row in tables[i].tbody.find_all(\"tr\"):\n",
        "      col = row.find_all(\"td\")\n",
        "      if (col != []):\n",
        "        Country = col[0].text.strip()\n",
        "        Codes = col[1].text.strip()\n",
        "\n",
        "        Obsolete_country_codes = Obsolete_country_codes.append({\"Country\":Country, \"Codes\":Codes}, ignore_index= True)\n",
        "Obsolete_country_codes"
      ],
      "execution_count": 105,
      "outputs": [
        {
          "output_type": "execute_result",
          "data": {
            "text/html": [
              "<div>\n",
              "<style scoped>\n",
              "    .dataframe tbody tr th:only-of-type {\n",
              "        vertical-align: middle;\n",
              "    }\n",
              "\n",
              "    .dataframe tbody tr th {\n",
              "        vertical-align: top;\n",
              "    }\n",
              "\n",
              "    .dataframe thead th {\n",
              "        text-align: right;\n",
              "    }\n",
              "</style>\n",
              "<table border=\"1\" class=\"dataframe\">\n",
              "  <thead>\n",
              "    <tr style=\"text-align: right;\">\n",
              "      <th></th>\n",
              "      <th>Country</th>\n",
              "      <th>Codes</th>\n",
              "    </tr>\n",
              "  </thead>\n",
              "  <tbody>\n",
              "    <tr>\n",
              "      <th>0</th>\n",
              "      <td>British Guiana</td>\n",
              "      <td>BGU</td>\n",
              "    </tr>\n",
              "    <tr>\n",
              "      <th>1</th>\n",
              "      <td>British India</td>\n",
              "      <td>BIN</td>\n",
              "    </tr>\n",
              "    <tr>\n",
              "      <th>2</th>\n",
              "      <td>Bohemia</td>\n",
              "      <td>BOH</td>\n",
              "    </tr>\n",
              "    <tr>\n",
              "      <th>3</th>\n",
              "      <td>Burma</td>\n",
              "      <td>BUR</td>\n",
              "    </tr>\n",
              "    <tr>\n",
              "      <th>4</th>\n",
              "      <td>Central African Republic</td>\n",
              "      <td>CAF</td>\n",
              "    </tr>\n",
              "    <tr>\n",
              "      <th>5</th>\n",
              "      <td>Ceylon</td>\n",
              "      <td>CEY</td>\n",
              "    </tr>\n",
              "    <tr>\n",
              "      <th>6</th>\n",
              "      <td>CIS</td>\n",
              "      <td>CIS</td>\n",
              "    </tr>\n",
              "    <tr>\n",
              "      <th>7</th>\n",
              "      <td>Czechoslovakia</td>\n",
              "      <td>TCH</td>\n",
              "    </tr>\n",
              "    <tr>\n",
              "      <th>8</th>\n",
              "      <td>Dahomey</td>\n",
              "      <td>DAH</td>\n",
              "    </tr>\n",
              "    <tr>\n",
              "      <th>9</th>\n",
              "      <td>Dutch East Indies</td>\n",
              "      <td>INH</td>\n",
              "    </tr>\n",
              "    <tr>\n",
              "      <th>10</th>\n",
              "      <td>East Germany</td>\n",
              "      <td>GDR</td>\n",
              "    </tr>\n",
              "    <tr>\n",
              "      <th>11</th>\n",
              "      <td>FR Yugoslavia</td>\n",
              "      <td>YUG</td>\n",
              "    </tr>\n",
              "    <tr>\n",
              "      <th>12</th>\n",
              "      <td>Gold Coast</td>\n",
              "      <td>GOC</td>\n",
              "    </tr>\n",
              "    <tr>\n",
              "      <th>13</th>\n",
              "      <td>Ireland</td>\n",
              "      <td>EIR</td>\n",
              "    </tr>\n",
              "    <tr>\n",
              "      <th>14</th>\n",
              "      <td>Lebanon</td>\n",
              "      <td>LIB</td>\n",
              "    </tr>\n",
              "    <tr>\n",
              "      <th>15</th>\n",
              "      <td>Malaya</td>\n",
              "      <td>MAL</td>\n",
              "    </tr>\n",
              "    <tr>\n",
              "      <th>16</th>\n",
              "      <td>Netherlands</td>\n",
              "      <td>HOL</td>\n",
              "    </tr>\n",
              "    <tr>\n",
              "      <th>17</th>\n",
              "      <td>Netherlands Antilles</td>\n",
              "      <td>ANT</td>\n",
              "    </tr>\n",
              "    <tr>\n",
              "      <th>18</th>\n",
              "      <td>New Hebrides</td>\n",
              "      <td>HEB</td>\n",
              "    </tr>\n",
              "    <tr>\n",
              "      <th>19</th>\n",
              "      <td>North Yemen</td>\n",
              "      <td>YAR</td>\n",
              "    </tr>\n",
              "    <tr>\n",
              "      <th>20</th>\n",
              "      <td>Northern Rhodesia</td>\n",
              "      <td>NRH</td>\n",
              "    </tr>\n",
              "    <tr>\n",
              "      <th>21</th>\n",
              "      <td>Palestine, British Mandate</td>\n",
              "      <td>PAL</td>\n",
              "    </tr>\n",
              "    <tr>\n",
              "      <th>22</th>\n",
              "      <td>Rhodesia</td>\n",
              "      <td>RHO</td>\n",
              "    </tr>\n",
              "    <tr>\n",
              "      <th>23</th>\n",
              "      <td>Romania</td>\n",
              "      <td>ROM</td>\n",
              "    </tr>\n",
              "    <tr>\n",
              "      <th>24</th>\n",
              "      <td>Saar</td>\n",
              "      <td>SAA</td>\n",
              "    </tr>\n",
              "    <tr>\n",
              "      <th>25</th>\n",
              "      <td>Serbia and Montenegro</td>\n",
              "      <td>SCG</td>\n",
              "    </tr>\n",
              "    <tr>\n",
              "      <th>26</th>\n",
              "      <td>Siam</td>\n",
              "      <td>SIA</td>\n",
              "    </tr>\n",
              "    <tr>\n",
              "      <th>27</th>\n",
              "      <td>South Yemen</td>\n",
              "      <td>YMD</td>\n",
              "    </tr>\n",
              "    <tr>\n",
              "      <th>28</th>\n",
              "      <td>Southern Rhodesia</td>\n",
              "      <td>SRH</td>\n",
              "    </tr>\n",
              "    <tr>\n",
              "      <th>29</th>\n",
              "      <td>Soviet Union</td>\n",
              "      <td>URS</td>\n",
              "    </tr>\n",
              "    <tr>\n",
              "      <th>30</th>\n",
              "      <td>Sudan</td>\n",
              "      <td>SUD</td>\n",
              "    </tr>\n",
              "    <tr>\n",
              "      <th>31</th>\n",
              "      <td>Suriname</td>\n",
              "      <td>NGY</td>\n",
              "    </tr>\n",
              "    <tr>\n",
              "      <th>32</th>\n",
              "      <td>Taiwan</td>\n",
              "      <td>TAI</td>\n",
              "    </tr>\n",
              "    <tr>\n",
              "      <th>33</th>\n",
              "      <td>Tanganyika (1961–1964)</td>\n",
              "      <td>TAA</td>\n",
              "    </tr>\n",
              "    <tr>\n",
              "      <th>34</th>\n",
              "      <td>United Arab Republic</td>\n",
              "      <td>UAR</td>\n",
              "    </tr>\n",
              "    <tr>\n",
              "      <th>35</th>\n",
              "      <td>Upper Volta</td>\n",
              "      <td>UPV</td>\n",
              "    </tr>\n",
              "    <tr>\n",
              "      <th>36</th>\n",
              "      <td>West Germany</td>\n",
              "      <td>FRG</td>\n",
              "    </tr>\n",
              "    <tr>\n",
              "      <th>37</th>\n",
              "      <td>Western Samoa</td>\n",
              "      <td>WSM</td>\n",
              "    </tr>\n",
              "    <tr>\n",
              "      <th>38</th>\n",
              "      <td>Yugoslavia</td>\n",
              "      <td>YUG</td>\n",
              "    </tr>\n",
              "    <tr>\n",
              "      <th>39</th>\n",
              "      <td>Zaire</td>\n",
              "      <td>ZAI</td>\n",
              "    </tr>\n",
              "  </tbody>\n",
              "</table>\n",
              "</div>"
            ],
            "text/plain": [
              "                       Country Codes\n",
              "0               British Guiana   BGU\n",
              "1                British India   BIN\n",
              "2                      Bohemia   BOH\n",
              "3                        Burma   BUR\n",
              "4     Central African Republic   CAF\n",
              "5                       Ceylon   CEY\n",
              "6                          CIS   CIS\n",
              "7               Czechoslovakia   TCH\n",
              "8                      Dahomey   DAH\n",
              "9            Dutch East Indies   INH\n",
              "10                East Germany   GDR\n",
              "11               FR Yugoslavia   YUG\n",
              "12                  Gold Coast   GOC\n",
              "13                     Ireland   EIR\n",
              "14                     Lebanon   LIB\n",
              "15                      Malaya   MAL\n",
              "16                 Netherlands   HOL\n",
              "17        Netherlands Antilles   ANT\n",
              "18                New Hebrides   HEB\n",
              "19                 North Yemen   YAR\n",
              "20           Northern Rhodesia   NRH\n",
              "21  Palestine, British Mandate   PAL\n",
              "22                    Rhodesia   RHO\n",
              "23                     Romania   ROM\n",
              "24                        Saar   SAA\n",
              "25       Serbia and Montenegro   SCG\n",
              "26                        Siam   SIA\n",
              "27                 South Yemen   YMD\n",
              "28           Southern Rhodesia   SRH\n",
              "29                Soviet Union   URS\n",
              "30                       Sudan   SUD\n",
              "31                    Suriname   NGY\n",
              "32                      Taiwan   TAI\n",
              "33      Tanganyika (1961–1964)   TAA\n",
              "34        United Arab Republic   UAR\n",
              "35                 Upper Volta   UPV\n",
              "36                West Germany   FRG\n",
              "37               Western Samoa   WSM\n",
              "38                  Yugoslavia   YUG\n",
              "39                       Zaire   ZAI"
            ]
          },
          "metadata": {
            "tags": []
          },
          "execution_count": 105
        }
      ]
    },
    {
      "cell_type": "code",
      "metadata": {
        "id": "g5goJyQvE-mF"
      },
      "source": [
        "Obsolete_country_codes.to_csv(\"Obsolete_country_codes.csv\")"
      ],
      "execution_count": 106,
      "outputs": []
    },
    {
      "cell_type": "code",
      "metadata": {
        "colab": {
          "base_uri": "https://localhost:8080/",
          "height": 17
        },
        "id": "6FeBjIbcFEcL",
        "outputId": "5b11628a-09c3-406d-9690-d4bc7641f335"
      },
      "source": [
        "files.download(\"Obsolete_country_codes.csv\")"
      ],
      "execution_count": 108,
      "outputs": [
        {
          "output_type": "display_data",
          "data": {
            "application/javascript": [
              "\n",
              "    async function download(id, filename, size) {\n",
              "      if (!google.colab.kernel.accessAllowed) {\n",
              "        return;\n",
              "      }\n",
              "      const div = document.createElement('div');\n",
              "      const label = document.createElement('label');\n",
              "      label.textContent = `Downloading \"${filename}\": `;\n",
              "      div.appendChild(label);\n",
              "      const progress = document.createElement('progress');\n",
              "      progress.max = size;\n",
              "      div.appendChild(progress);\n",
              "      document.body.appendChild(div);\n",
              "\n",
              "      const buffers = [];\n",
              "      let downloaded = 0;\n",
              "\n",
              "      const channel = await google.colab.kernel.comms.open(id);\n",
              "      // Send a message to notify the kernel that we're ready.\n",
              "      channel.send({})\n",
              "\n",
              "      for await (const message of channel.messages) {\n",
              "        // Send a message to notify the kernel that we're ready.\n",
              "        channel.send({})\n",
              "        if (message.buffers) {\n",
              "          for (const buffer of message.buffers) {\n",
              "            buffers.push(buffer);\n",
              "            downloaded += buffer.byteLength;\n",
              "            progress.value = downloaded;\n",
              "          }\n",
              "        }\n",
              "      }\n",
              "      const blob = new Blob(buffers, {type: 'application/binary'});\n",
              "      const a = document.createElement('a');\n",
              "      a.href = window.URL.createObjectURL(blob);\n",
              "      a.download = filename;\n",
              "      div.appendChild(a);\n",
              "      a.click();\n",
              "      div.remove();\n",
              "    }\n",
              "  "
            ],
            "text/plain": [
              "<IPython.core.display.Javascript object>"
            ]
          },
          "metadata": {
            "tags": []
          }
        },
        {
          "output_type": "display_data",
          "data": {
            "application/javascript": [
              "download(\"download_ac54a711-5b72-46ca-b24a-c3f19c26ab8a\", \"Obsolete_country_codes.csv\", 787)"
            ],
            "text/plain": [
              "<IPython.core.display.Javascript object>"
            ]
          },
          "metadata": {
            "tags": []
          }
        }
      ]
    },
    {
      "cell_type": "markdown",
      "metadata": {
        "id": "5yaZYx5JFaqi"
      },
      "source": [
        "### **FIFA, IOC and ISO differences**\n",
        "For most countries, FIFA codes are the same as both the International Olympic Committee country codes used for the Olympic Games and the ISO 3166 country codes. When these two are different, FIFA usually chooses one of the two, and for a few countries FIFA uses a distinct code."
      ]
    },
    {
      "cell_type": "code",
      "metadata": {
        "id": "iGkj0nwLFnsM"
      },
      "source": [
        "tables[9]"
      ],
      "execution_count": null,
      "outputs": []
    },
    {
      "cell_type": "code",
      "metadata": {
        "id": "Ib6T9JUvF_C7"
      },
      "source": [
        "FIFA_IOC_ISO_differences = []\n",
        "FIFA_IOC_ISO_differences = pd.DataFrame(columns = [\"Country\", \"FIFA_Code\",\t\"IOC_Code\", \"ISO_Code\"])"
      ],
      "execution_count": 110,
      "outputs": []
    },
    {
      "cell_type": "code",
      "metadata": {
        "colab": {
          "base_uri": "https://localhost:8080/",
          "height": 402
        },
        "id": "tuT7rCBlGlS3",
        "outputId": "ec9d2536-62d0-4201-db2a-4b657b7845f2"
      },
      "source": [
        "for row in tables[9].tbody.find_all(\"tr\"):\n",
        "    col = row.find_all(\"td\")\n",
        "    if (col != []):\n",
        "      Country = col[0].text.strip()\n",
        "      FIFA_Code = col[1].text.strip()\n",
        "      IOC_Code = col[2].text.strip()\n",
        "      ISO_Code = col[3].text.strip()\n",
        "\n",
        "\n",
        "      FIFA_IOC_ISO_differences = FIFA_IOC_ISO_differences.append({\"Country\":Country, \"FIFA_Code\":FIFA_Code, \"IOC_Code\": IOC_Code, \"ISO_Code\": ISO_Code}, ignore_index= True)\n",
        "FIFA_IOC_ISO_differences"
      ],
      "execution_count": 111,
      "outputs": [
        {
          "output_type": "execute_result",
          "data": {
            "text/html": [
              "<div>\n",
              "<style scoped>\n",
              "    .dataframe tbody tr th:only-of-type {\n",
              "        vertical-align: middle;\n",
              "    }\n",
              "\n",
              "    .dataframe tbody tr th {\n",
              "        vertical-align: top;\n",
              "    }\n",
              "\n",
              "    .dataframe thead th {\n",
              "        text-align: right;\n",
              "    }\n",
              "</style>\n",
              "<table border=\"1\" class=\"dataframe\">\n",
              "  <thead>\n",
              "    <tr style=\"text-align: right;\">\n",
              "      <th></th>\n",
              "      <th>Country</th>\n",
              "      <th>FIFA_Code</th>\n",
              "      <th>IOC_Code</th>\n",
              "      <th>ISO_Code</th>\n",
              "    </tr>\n",
              "  </thead>\n",
              "  <tbody>\n",
              "    <tr>\n",
              "      <th>0</th>\n",
              "      <td>Algeria</td>\n",
              "      <td>ALG</td>\n",
              "      <td>ALG</td>\n",
              "      <td>DZA</td>\n",
              "    </tr>\n",
              "    <tr>\n",
              "      <th>1</th>\n",
              "      <td>United Arab Emirates</td>\n",
              "      <td>UAE</td>\n",
              "      <td>UAE</td>\n",
              "      <td>ARE</td>\n",
              "    </tr>\n",
              "    <tr>\n",
              "      <th>2</th>\n",
              "      <td>American Samoa</td>\n",
              "      <td>ASA</td>\n",
              "      <td>ASA</td>\n",
              "      <td>ASM</td>\n",
              "    </tr>\n",
              "    <tr>\n",
              "      <th>3</th>\n",
              "      <td>Angola</td>\n",
              "      <td>ANG</td>\n",
              "      <td>ANG</td>\n",
              "      <td>AGO</td>\n",
              "    </tr>\n",
              "    <tr>\n",
              "      <th>4</th>\n",
              "      <td>Antigua and Barbuda</td>\n",
              "      <td>ATG</td>\n",
              "      <td>ANT</td>\n",
              "      <td>ATG</td>\n",
              "    </tr>\n",
              "    <tr>\n",
              "      <th>...</th>\n",
              "      <td>...</td>\n",
              "      <td>...</td>\n",
              "      <td>...</td>\n",
              "      <td>...</td>\n",
              "    </tr>\n",
              "    <tr>\n",
              "      <th>83</th>\n",
              "      <td>U.S. Virgin Islands</td>\n",
              "      <td>VIR</td>\n",
              "      <td>ISV</td>\n",
              "      <td>VIR</td>\n",
              "    </tr>\n",
              "    <tr>\n",
              "      <th>84</th>\n",
              "      <td>Vietnam</td>\n",
              "      <td>VIE</td>\n",
              "      <td>VIE</td>\n",
              "      <td>VNM</td>\n",
              "    </tr>\n",
              "    <tr>\n",
              "      <th>85</th>\n",
              "      <td>Vanuatu</td>\n",
              "      <td>VAN</td>\n",
              "      <td>VAN</td>\n",
              "      <td>VUT</td>\n",
              "    </tr>\n",
              "    <tr>\n",
              "      <th>86</th>\n",
              "      <td>Zambia</td>\n",
              "      <td>ZAM</td>\n",
              "      <td>ZAM</td>\n",
              "      <td>ZMB</td>\n",
              "    </tr>\n",
              "    <tr>\n",
              "      <th>87</th>\n",
              "      <td>Zimbabwe</td>\n",
              "      <td>ZIM</td>\n",
              "      <td>ZIM</td>\n",
              "      <td>ZWE</td>\n",
              "    </tr>\n",
              "  </tbody>\n",
              "</table>\n",
              "<p>88 rows × 4 columns</p>\n",
              "</div>"
            ],
            "text/plain": [
              "                 Country FIFA_Code IOC_Code ISO_Code\n",
              "0                Algeria       ALG      ALG      DZA\n",
              "1   United Arab Emirates       UAE      UAE      ARE\n",
              "2         American Samoa       ASA      ASA      ASM\n",
              "3                 Angola       ANG      ANG      AGO\n",
              "4    Antigua and Barbuda       ATG      ANT      ATG\n",
              "..                   ...       ...      ...      ...\n",
              "83   U.S. Virgin Islands       VIR      ISV      VIR\n",
              "84               Vietnam       VIE      VIE      VNM\n",
              "85               Vanuatu       VAN      VAN      VUT\n",
              "86                Zambia       ZAM      ZAM      ZMB\n",
              "87              Zimbabwe       ZIM      ZIM      ZWE\n",
              "\n",
              "[88 rows x 4 columns]"
            ]
          },
          "metadata": {
            "tags": []
          },
          "execution_count": 111
        }
      ]
    },
    {
      "cell_type": "code",
      "metadata": {
        "id": "QV6LgouyHZ36"
      },
      "source": [
        "FIFA_IOC_ISO_differences.to_csv(\"FIFA_IOC_ISO_differences.csv\")"
      ],
      "execution_count": 113,
      "outputs": []
    },
    {
      "cell_type": "code",
      "metadata": {
        "colab": {
          "base_uri": "https://localhost:8080/"
        },
        "id": "WmsCM2V0Hj7t",
        "outputId": "0eca4bb1-605f-4093-c387-c0ba65849daf"
      },
      "source": [
        "!ls"
      ],
      "execution_count": 114,
      "outputs": [
        {
          "output_type": "stream",
          "text": [
            "Fifa_Country_codes.csv\t      Non_fifa_county_codes\t  sample_data\n",
            "FIFA_IOC_ISO_differences.csv  Non_fifa_county_codes.csv\n",
            "Irregular_codes.csv\t      Obsolete_country_codes.csv\n"
          ],
          "name": "stdout"
        }
      ]
    },
    {
      "cell_type": "code",
      "metadata": {
        "colab": {
          "base_uri": "https://localhost:8080/",
          "height": 17
        },
        "id": "7XwI2EW7HmLq",
        "outputId": "0dc30651-64ec-4e33-9a47-f24264ac2bc0"
      },
      "source": [
        "files.download(\"FIFA_IOC_ISO_differences.csv\")"
      ],
      "execution_count": 115,
      "outputs": [
        {
          "output_type": "display_data",
          "data": {
            "application/javascript": [
              "\n",
              "    async function download(id, filename, size) {\n",
              "      if (!google.colab.kernel.accessAllowed) {\n",
              "        return;\n",
              "      }\n",
              "      const div = document.createElement('div');\n",
              "      const label = document.createElement('label');\n",
              "      label.textContent = `Downloading \"${filename}\": `;\n",
              "      div.appendChild(label);\n",
              "      const progress = document.createElement('progress');\n",
              "      progress.max = size;\n",
              "      div.appendChild(progress);\n",
              "      document.body.appendChild(div);\n",
              "\n",
              "      const buffers = [];\n",
              "      let downloaded = 0;\n",
              "\n",
              "      const channel = await google.colab.kernel.comms.open(id);\n",
              "      // Send a message to notify the kernel that we're ready.\n",
              "      channel.send({})\n",
              "\n",
              "      for await (const message of channel.messages) {\n",
              "        // Send a message to notify the kernel that we're ready.\n",
              "        channel.send({})\n",
              "        if (message.buffers) {\n",
              "          for (const buffer of message.buffers) {\n",
              "            buffers.push(buffer);\n",
              "            downloaded += buffer.byteLength;\n",
              "            progress.value = downloaded;\n",
              "          }\n",
              "        }\n",
              "      }\n",
              "      const blob = new Blob(buffers, {type: 'application/binary'});\n",
              "      const a = document.createElement('a');\n",
              "      a.href = window.URL.createObjectURL(blob);\n",
              "      a.download = filename;\n",
              "      div.appendChild(a);\n",
              "      a.click();\n",
              "      div.remove();\n",
              "    }\n",
              "  "
            ],
            "text/plain": [
              "<IPython.core.display.Javascript object>"
            ]
          },
          "metadata": {
            "tags": []
          }
        },
        {
          "output_type": "display_data",
          "data": {
            "application/javascript": [
              "download(\"download_61ff0738-58eb-4116-bc8f-daaabb9726f7\", \"FIFA_IOC_ISO_differences.csv\", 2293)"
            ],
            "text/plain": [
              "<IPython.core.display.Javascript object>"
            ]
          },
          "metadata": {
            "tags": []
          }
        }
      ]
    },
    {
      "cell_type": "markdown",
      "metadata": {
        "id": "qCYVAe2TGk6I"
      },
      "source": [
        "# **Completed!**\n",
        "\n"
      ]
    },
    {
      "cell_type": "code",
      "metadata": {
        "id": "dSq_eB9kIFxH"
      },
      "source": [
        ""
      ],
      "execution_count": null,
      "outputs": []
    }
  ]
}